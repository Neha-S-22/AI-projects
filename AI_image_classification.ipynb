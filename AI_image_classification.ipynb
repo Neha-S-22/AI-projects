{
  "nbformat": 4,
  "nbformat_minor": 0,
  "metadata": {
    "colab": {
      "provenance": [],
      "authorship_tag": "ABX9TyOv/9zd1zBR0t5RvZcgMyQA",
      "include_colab_link": true
    },
    "kernelspec": {
      "name": "python3",
      "display_name": "Python 3"
    },
    "language_info": {
      "name": "python"
    }
  },
  "cells": [
    {
      "cell_type": "markdown",
      "metadata": {
        "id": "view-in-github",
        "colab_type": "text"
      },
      "source": [
        "<a href=\"https://colab.research.google.com/github/Neha-S-22/AI-projects/blob/main/AI_image_classification.ipynb\" target=\"_parent\"><img src=\"https://colab.research.google.com/assets/colab-badge.svg\" alt=\"Open In Colab\"/></a>"
      ]
    },
    {
      "cell_type": "code",
      "execution_count": 1,
      "metadata": {
        "id": "zqGG74piQzZq"
      },
      "outputs": [],
      "source": [
        "import tensorflow as tf\n",
        "from tensorflow import keras\n",
        "from tensorflow.keras import layers\n",
        "from tensorflow.keras.datasets import cifar10"
      ]
    },
    {
      "cell_type": "code",
      "source": [
        "(x_train, y_train), (x_test, y_test) = cifar10.load_data()"
      ],
      "metadata": {
        "colab": {
          "base_uri": "https://localhost:8080/"
        },
        "id": "PnDJUK4TQ5ca",
        "outputId": "af165f99-f286-48d9-95dc-504f9c190ca5"
      },
      "execution_count": 2,
      "outputs": [
        {
          "output_type": "stream",
          "name": "stdout",
          "text": [
            "Downloading data from https://www.cs.toronto.edu/~kriz/cifar-10-python.tar.gz\n",
            "170498071/170498071 [==============================] - 6s 0us/step\n"
          ]
        }
      ]
    },
    {
      "cell_type": "code",
      "source": [
        "x_train = x_train.astype(\"float32\") / 255.0\n",
        "x_test = x_test.astype(\"float32\") / 255.0"
      ],
      "metadata": {
        "id": "pDxhmAvwRmjh"
      },
      "execution_count": 3,
      "outputs": []
    },
    {
      "cell_type": "code",
      "source": [
        "model = keras.Sequential(\n",
        "    [\n",
        "        keras.Input(shape=(32, 32, 3)),\n",
        "        layers.Conv2D(32, kernel_size=(3, 3), activation=\"relu\"),\n",
        "        layers.MaxPooling2D(pool_size=(2, 2)),\n",
        "        layers.Conv2D(64, kernel_size=(3, 3), activation=\"relu\"),\n",
        "        layers.MaxPooling2D(pool_size=(2, 2)),\n",
        "        layers.Flatten(),\n",
        "        layers.Dropout(0.5),\n",
        "        layers.Dense(10, activation=\"softmax\"),\n",
        "    ]\n",
        ")\n"
      ],
      "metadata": {
        "id": "x9JW2BUrVFRB"
      },
      "execution_count": 4,
      "outputs": []
    },
    {
      "cell_type": "code",
      "source": [
        "model.compile(loss=\"sparse_categorical_crossentropy\", optimizer=\"adam\", metrics=[\"accuracy\"])"
      ],
      "metadata": {
        "id": "pmNxC7HUVJBA"
      },
      "execution_count": 5,
      "outputs": []
    },
    {
      "cell_type": "code",
      "source": [
        "model.fit(x_train, y_train, batch_size=64, epochs=10, validation_split=0.1)"
      ],
      "metadata": {
        "colab": {
          "base_uri": "https://localhost:8080/"
        },
        "id": "h0JUQxxLVO80",
        "outputId": "a38b4b07-bccd-491d-ea1e-ef921ace038c"
      },
      "execution_count": 8,
      "outputs": [
        {
          "output_type": "stream",
          "name": "stdout",
          "text": [
            "Epoch 1/10\n",
            "704/704 [==============================] - 63s 90ms/step - loss: 0.8494 - accuracy: 0.7064 - val_loss: 0.7931 - val_accuracy: 0.7338\n",
            "Epoch 2/10\n",
            "704/704 [==============================] - 61s 87ms/step - loss: 0.8375 - accuracy: 0.7111 - val_loss: 0.8061 - val_accuracy: 0.7308\n",
            "Epoch 3/10\n",
            "704/704 [==============================] - 62s 88ms/step - loss: 0.8324 - accuracy: 0.7092 - val_loss: 0.7792 - val_accuracy: 0.7372\n",
            "Epoch 4/10\n",
            "704/704 [==============================] - 62s 88ms/step - loss: 0.8284 - accuracy: 0.7112 - val_loss: 0.7798 - val_accuracy: 0.7390\n",
            "Epoch 5/10\n",
            "704/704 [==============================] - 61s 87ms/step - loss: 0.8265 - accuracy: 0.7132 - val_loss: 0.7934 - val_accuracy: 0.7300\n",
            "Epoch 6/10\n",
            "704/704 [==============================] - 60s 85ms/step - loss: 0.8143 - accuracy: 0.7182 - val_loss: 0.7879 - val_accuracy: 0.7312\n",
            "Epoch 7/10\n",
            "704/704 [==============================] - 62s 87ms/step - loss: 0.8073 - accuracy: 0.7186 - val_loss: 0.8076 - val_accuracy: 0.7242\n",
            "Epoch 8/10\n",
            "704/704 [==============================] - 61s 86ms/step - loss: 0.8009 - accuracy: 0.7214 - val_loss: 0.7867 - val_accuracy: 0.7296\n",
            "Epoch 9/10\n",
            "704/704 [==============================] - 61s 87ms/step - loss: 0.7992 - accuracy: 0.7217 - val_loss: 0.7737 - val_accuracy: 0.7436\n",
            "Epoch 10/10\n",
            "704/704 [==============================] - 61s 86ms/step - loss: 0.7973 - accuracy: 0.7214 - val_loss: 0.7812 - val_accuracy: 0.7396\n"
          ]
        },
        {
          "output_type": "execute_result",
          "data": {
            "text/plain": [
              "<keras.callbacks.History at 0x7fa567d30850>"
            ]
          },
          "metadata": {},
          "execution_count": 8
        }
      ]
    },
    {
      "cell_type": "code",
      "source": [
        "model.evaluate(x_test, y_test, batch_size=64, verbose=1)"
      ],
      "metadata": {
        "colab": {
          "base_uri": "https://localhost:8080/"
        },
        "id": "GkQw1gMEVSb-",
        "outputId": "d4ef19ec-3da0-4780-d003-b1700b96f7e2"
      },
      "execution_count": 9,
      "outputs": [
        {
          "output_type": "stream",
          "name": "stdout",
          "text": [
            "157/157 [==============================] - 4s 24ms/step - loss: 0.7928 - accuracy: 0.7321\n"
          ]
        },
        {
          "output_type": "execute_result",
          "data": {
            "text/plain": [
              "[0.7927941679954529, 0.7321000099182129]"
            ]
          },
          "metadata": {},
          "execution_count": 9
        }
      ]
    },
    {
      "cell_type": "code",
      "source": [],
      "metadata": {
        "id": "Xvyp731aaN8j"
      },
      "execution_count": null,
      "outputs": []
    }
  ]
}