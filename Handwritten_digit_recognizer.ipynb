{
  "nbformat": 4,
  "nbformat_minor": 0,
  "metadata": {
    "colab": {
      "provenance": [],
      "authorship_tag": "ABX9TyNwH5fmzrchjMzOzIreb1jg",
      "include_colab_link": true
    },
    "kernelspec": {
      "name": "python3",
      "display_name": "Python 3"
    },
    "language_info": {
      "name": "python"
    }
  },
  "cells": [
    {
      "cell_type": "markdown",
      "metadata": {
        "id": "view-in-github",
        "colab_type": "text"
      },
      "source": [
        "<a href=\"https://colab.research.google.com/github/Neha-S-22/AI-projects/blob/main/Handwritten_digit_recognizer.ipynb\" target=\"_parent\"><img src=\"https://colab.research.google.com/assets/colab-badge.svg\" alt=\"Open In Colab\"/></a>"
      ]
    },
    {
      "cell_type": "code",
      "execution_count": 1,
      "metadata": {
        "id": "KyjOf5OeF4iB"
      },
      "outputs": [],
      "source": [
        "import tensorflow as tf\n",
        "from tensorflow.keras.datasets import mnist\n",
        "from tensorflow.keras.models import Sequential\n",
        "from tensorflow.keras.layers import Dense, Flatten"
      ]
    },
    {
      "cell_type": "code",
      "source": [
        "(x_train, y_train), (x_test, y_test) = mnist.load_data()"
      ],
      "metadata": {
        "colab": {
          "base_uri": "https://localhost:8080/"
        },
        "id": "olCRAmkFF7Y_",
        "outputId": "5f55b0b3-51e0-41a9-9a76-5b92b0c3062b"
      },
      "execution_count": 2,
      "outputs": [
        {
          "output_type": "stream",
          "name": "stdout",
          "text": [
            "Downloading data from https://storage.googleapis.com/tensorflow/tf-keras-datasets/mnist.npz\n",
            "11490434/11490434 [==============================] - 0s 0us/step\n"
          ]
        }
      ]
    },
    {
      "cell_type": "code",
      "source": [
        "x_train = x_train.reshape((60000, 28 * 28))\n",
        "x_train = x_train.astype('float32') / 255\n",
        "x_test = x_test.reshape((10000, 28 * 28))\n",
        "x_test = x_test.astype('float32') / 255"
      ],
      "metadata": {
        "id": "egoRIS7TGAKS"
      },
      "execution_count": 3,
      "outputs": []
    },
    {
      "cell_type": "code",
      "source": [
        "model = Sequential()\n",
        "model.add(Dense(512, activation='relu', input_shape=(28 * 28,)))\n",
        "model.add(Dense(10, activation='softmax'))"
      ],
      "metadata": {
        "id": "UdoQWnm-GE5h"
      },
      "execution_count": 4,
      "outputs": []
    },
    {
      "cell_type": "code",
      "source": [
        "model.compile(optimizer='rmsprop',\n",
        "              loss='categorical_crossentropy',\n",
        "              metrics=['accuracy'])"
      ],
      "metadata": {
        "id": "z_QtRz37GM37"
      },
      "execution_count": 5,
      "outputs": []
    },
    {
      "cell_type": "code",
      "source": [
        "model.fit(x_train, tf.keras.utils.to_categorical(y_train),\n",
        "          epochs=5,\n",
        "          batch_size=128,\n",
        "          validation_split=0.2)"
      ],
      "metadata": {
        "colab": {
          "base_uri": "https://localhost:8080/"
        },
        "id": "FineXXxeGRnN",
        "outputId": "6c5cac12-67cb-43ae-fa13-2e59505223f2"
      },
      "execution_count": 6,
      "outputs": [
        {
          "output_type": "stream",
          "name": "stdout",
          "text": [
            "Epoch 1/5\n",
            "375/375 [==============================] - 5s 11ms/step - loss: 0.2942 - accuracy: 0.9158 - val_loss: 0.1524 - val_accuracy: 0.9554\n",
            "Epoch 2/5\n",
            "375/375 [==============================] - 4s 12ms/step - loss: 0.1242 - accuracy: 0.9637 - val_loss: 0.1045 - val_accuracy: 0.9688\n",
            "Epoch 3/5\n",
            "375/375 [==============================] - 4s 11ms/step - loss: 0.0810 - accuracy: 0.9758 - val_loss: 0.0931 - val_accuracy: 0.9712\n",
            "Epoch 4/5\n",
            "375/375 [==============================] - 4s 10ms/step - loss: 0.0585 - accuracy: 0.9828 - val_loss: 0.0819 - val_accuracy: 0.9754\n",
            "Epoch 5/5\n",
            "375/375 [==============================] - 4s 11ms/step - loss: 0.0441 - accuracy: 0.9873 - val_loss: 0.0790 - val_accuracy: 0.9755\n"
          ]
        },
        {
          "output_type": "execute_result",
          "data": {
            "text/plain": [
              "<keras.callbacks.History at 0x7f796111cf70>"
            ]
          },
          "metadata": {},
          "execution_count": 6
        }
      ]
    },
    {
      "cell_type": "code",
      "source": [
        "test_loss, test_acc = model.evaluate(x_test, tf.keras.utils.to_categorical(y_test))\n",
        "print('Test accuracy:', test_acc*100)"
      ],
      "metadata": {
        "colab": {
          "base_uri": "https://localhost:8080/"
        },
        "id": "uk079YsqGY50",
        "outputId": "baeff2ca-7960-4a76-e6d0-23c9e82c0463"
      },
      "execution_count": 8,
      "outputs": [
        {
          "output_type": "stream",
          "name": "stdout",
          "text": [
            "313/313 [==============================] - 1s 4ms/step - loss: 0.0727 - accuracy: 0.9784\n",
            "Test accuracy: 97.83999919891357\n"
          ]
        }
      ]
    },
    {
      "cell_type": "code",
      "source": [],
      "metadata": {
        "id": "1_TgJADLGtOo"
      },
      "execution_count": null,
      "outputs": []
    }
  ]
}